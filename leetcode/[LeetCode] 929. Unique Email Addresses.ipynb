{
 "cells": [
  {
   "cell_type": "code",
   "execution_count": null,
   "id": "20554013",
   "metadata": {},
   "outputs": [],
   "source": [
    "problem: https://leetcode.com/problems/unique-email-addresses/\n",
    "blog: https://yeslab.tistory.com/114"
   ]
  },
  {
   "cell_type": "code",
   "execution_count": 2,
   "id": "95a3d624",
   "metadata": {},
   "outputs": [
    {
     "data": {
      "text/plain": [
       "2"
      ]
     },
     "execution_count": 2,
     "metadata": {},
     "output_type": "execute_result"
    }
   ],
   "source": [
    "class Solution:\n",
    "    def numUniqueEmails(self, emails: list[str]) -> int:\n",
    "        result = set()\n",
    "        for e in emails:\n",
    "            local, domain = e.split('@', 1)\n",
    "            local = local.split('+', 1)[0].replace('.','')\n",
    "            result.add(f'{local}@{domain}')\n",
    "            \n",
    "        return(len(result))\n",
    "    \n",
    "INPUT=[\"test.email+alex@leetcode.com\",\"test.e.mail+bob.cathy@leetcode.com\",\"testemail+david@lee.tcode.com\"]\n",
    "\n",
    "sol = Solution()\n",
    "sol.numUniqueEmails(INPUT)\n"
   ]
  },
  {
   "cell_type": "code",
   "execution_count": null,
   "id": "b1bb716d",
   "metadata": {},
   "outputs": [],
   "source": []
  }
 ],
 "metadata": {
  "kernelspec": {
   "display_name": "Python 3 (ipykernel)",
   "language": "python",
   "name": "python3"
  },
  "language_info": {
   "codemirror_mode": {
    "name": "ipython",
    "version": 3
   },
   "file_extension": ".py",
   "mimetype": "text/x-python",
   "name": "python",
   "nbconvert_exporter": "python",
   "pygments_lexer": "ipython3",
   "version": "3.9.10"
  }
 },
 "nbformat": 4,
 "nbformat_minor": 5
}

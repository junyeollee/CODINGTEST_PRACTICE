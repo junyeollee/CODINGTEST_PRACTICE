{
 "cells": [
  {
   "cell_type": "code",
   "execution_count": null,
   "id": "20554013",
   "metadata": {},
   "outputs": [],
   "source": [
    "problem: https://leetcode.com/problems/odd-even-jump/\n",
    "blog: https://yeslab.tistory.com/120"
   ]
  },
  {
   "cell_type": "code",
   "execution_count": 15,
   "id": "95a3d624",
   "metadata": {},
   "outputs": [
    {
     "data": {
      "text/plain": [
       "3"
      ]
     },
     "execution_count": 15,
     "metadata": {},
     "output_type": "execute_result"
    }
   ],
   "source": [
    "class Solution:\n",
    "    def oddEvenJumps(self, arr: list[int]) -> int:\n",
    "            n = len(arr)\n",
    "            next_higher, next_lower = [0] * n, [0] * n # arr for store \n",
    "\n",
    "            stack = []\n",
    "            for a, i in sorted([a, i] for i, a in enumerate(arr)):\n",
    "                while stack and stack[-1] < i:\n",
    "                    next_higher[stack.pop()] = i\n",
    "                stack.append(i)\n",
    "\n",
    "            stack = []\n",
    "            for a, i in sorted([-a, i] for i, a in enumerate(arr)):\n",
    "                while stack and stack[-1] < i:\n",
    "                    next_lower[stack.pop()] = i\n",
    "                stack.append(i)\n",
    "                \n",
    "            higher, lower = [0] * n, [0] * n\n",
    "            higher[-1] = lower[-1] = 1\n",
    "\n",
    "            for i in range(n - 1)[::-1]:\n",
    "                higher[i] = lower[next_higher[i]]\n",
    "                lower[i] = higher[next_lower[i]]\n",
    "                \n",
    "            return sum(higher)\n",
    "    \n",
    "INPUT=[2,3,1,1,4]\n",
    "\n",
    "sol = Solution()\n",
    "sol.oddEvenJumps(INPUT)\n"
   ]
  },
  {
   "cell_type": "code",
   "execution_count": null,
   "id": "b1bb716d",
   "metadata": {},
   "outputs": [],
   "source": []
  }
 ],
 "metadata": {
  "kernelspec": {
   "display_name": "Python 3 (ipykernel)",
   "language": "python",
   "name": "python3"
  },
  "language_info": {
   "codemirror_mode": {
    "name": "ipython",
    "version": 3
   },
   "file_extension": ".py",
   "mimetype": "text/x-python",
   "name": "python",
   "nbconvert_exporter": "python",
   "pygments_lexer": "ipython3",
   "version": "3.9.13"
  }
 },
 "nbformat": 4,
 "nbformat_minor": 5
}
